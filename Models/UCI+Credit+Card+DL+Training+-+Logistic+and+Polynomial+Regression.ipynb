{
 "cells": [
  {
   "cell_type": "code",
   "execution_count": 89,
   "metadata": {
    "scrolled": true
   },
   "outputs": [
    {
     "name": "stdout",
     "output_type": "stream",
     "text": [
      "Index(['LIMIT_BAL', 'SEX', 'EDUCATION', 'MARRIAGE', 'AGE', 'PAY_0', 'PAY_2',\n",
      "       'PAY_3', 'PAY_4', 'PAY_5', 'PAY_6', 'BILL_AMT1', 'BILL_AMT2',\n",
      "       'BILL_AMT3', 'BILL_AMT4', 'BILL_AMT5', 'BILL_AMT6', 'PAY_AMT1',\n",
      "       'PAY_AMT2', 'PAY_AMT3', 'PAY_AMT4', 'PAY_AMT5', 'PAY_AMT6',\n",
      "       'default.payment.next.month', 'age_class'],\n",
      "      dtype='object')\n"
     ]
    }
   ],
   "source": [
    "import pandas as pd\n",
    "import numpy as np\n",
    "from keras.utils import to_categorical, normalize\n",
    "from sklearn.model_selection import train_test_split\n",
    "\n",
    "dataset = pd.read_csv(r\"data_set.csv\", index_col=0)\n",
    "dataset[\"age_class\"] = 0\n",
    "dataset.loc[(dataset[\"AGE\"] >= 20) & (dataset[\"AGE\"] < 30), \"age_class\"] = 1\n",
    "dataset.loc[(dataset[\"AGE\"] >= 30) & (dataset[\"AGE\"] < 40), \"age_class\"] = 2\n",
    "dataset.loc[(dataset[\"AGE\"] >= 40) & (dataset[\"AGE\"] < 50), \"age_class\"] = 3\n",
    "dataset.loc[(dataset[\"AGE\"] >= 50) & (dataset[\"AGE\"] < 60), \"age_class\"] = 4\n",
    "dataset.loc[(dataset[\"AGE\"] >= 60) & (dataset[\"AGE\"] < 70), \"age_class\"] = 5\n",
    "dataset.loc[(dataset[\"AGE\"] >= 70) & (dataset[\"AGE\"] < 80), \"age_class\"] = 6\n",
    "dataset.loc[(dataset[\"AGE\"] >= 80) & (dataset[\"AGE\"] < 90), \"age_class\"] = 7\n",
    "dataset.loc[(dataset[\"AGE\"] >= 90) & (dataset[\"AGE\"] < 100), \"age_class\"] = 8\n",
    "print(dataset.columns)\n",
    "#for columns in dataset:\n",
    "#    print(columns)\n",
    "#    print(dataset[columns].unique())"
   ]
  },
  {
   "cell_type": "code",
   "execution_count": 90,
   "metadata": {},
   "outputs": [],
   "source": [
    "dataset = np.array(dataset)\n",
    "\n",
    "m = dataset.shape[0] # no. of training examples\n",
    "# preparing X, adding one_hot encoding wherever needed\n",
    "X = np.concatenate((\n",
    "    dataset[:, 0].reshape(m, -1), # limit\n",
    "    to_categorical(dataset[:, 5]), # pay0\n",
    "    to_categorical(dataset[:, 6]), # pay2\n",
    "    to_categorical(dataset[:, 7]), # pay3\n",
    "    to_categorical(dataset[:, 8]), # pay4\n",
    "    to_categorical(dataset[:, 9]), # pay5\n",
    "    to_categorical(dataset[:, 10]), #pay6\n",
    "    dataset[:, 11:23], # bill amount and previous month payment\n",
    "    to_categorical(dataset[:, 23]) # default payment flag  \n",
    "), axis=1)\n",
    "    \n",
    "X = normalize(X, axis=1, order=2)\n",
    "#Y_sex = to_categorical(dataset[:, 1])\n",
    "#Y_education = to_categorical(dataset[:, 2])\n",
    "#Y_marriage = to_categorical(dataset[:, 3])\n",
    "#Y_age = to_categorical(dataset[:, 24])\n",
    "\n",
    "Y_sex = dataset[:, 1]\n",
    "Y_education = dataset[:, 2]\n",
    "Y_marriage = dataset[:, 3]\n",
    "Y_age = dataset[:, 24]"
   ]
  },
  {
   "cell_type": "markdown",
   "metadata": {},
   "source": [
    "# Logit model - Gender as DV"
   ]
  },
  {
   "cell_type": "code",
   "execution_count": 91,
   "metadata": {},
   "outputs": [],
   "source": [
    "X_train, X_test, Y_train, Y_test = train_test_split(X, Y_sex, test_size=0.10, random_state=5)"
   ]
  },
  {
   "cell_type": "code",
   "execution_count": 92,
   "metadata": {},
   "outputs": [
    {
     "name": "stdout",
     "output_type": "stream",
     "text": [
      "(27000, 69) (27000,)\n"
     ]
    },
    {
     "data": {
      "text/plain": [
       "LogisticRegression(C=1.0, class_weight=None, dual=False, fit_intercept=True,\n",
       "          intercept_scaling=1, max_iter=100, multi_class='ovr', n_jobs=1,\n",
       "          penalty='l2', random_state=None, solver='liblinear', tol=0.0001,\n",
       "          verbose=0, warm_start=False)"
      ]
     },
     "execution_count": 92,
     "metadata": {},
     "output_type": "execute_result"
    }
   ],
   "source": [
    "# Logistic\n",
    "from sklearn.linear_model import LogisticRegression\n",
    "from sklearn.metrics import confusion_matrix\n",
    "\n",
    "print(X_train.shape, Y_train.shape)\n",
    "regressor = LogisticRegression()\n",
    "regressor.fit(X_train, Y_train)"
   ]
  },
  {
   "cell_type": "code",
   "execution_count": 93,
   "metadata": {},
   "outputs": [
    {
     "name": "stdout",
     "output_type": "stream",
     "text": [
      "(27000, 69) (27000,)\n",
      "Accuracy of logistic regression classifier on train set: 0.61\n",
      "(3000, 69) (3000,)\n",
      "Accuracy of logistic regression classifier on test set: 0.60\n"
     ]
    }
   ],
   "source": [
    "print(X_train.shape, Y_train.shape)\n",
    "print('Accuracy of logistic regression classifier on train set: {:.2f}'.format(regressor.score(X_train, Y_train)))\n",
    "print(X_test.shape, Y_test.shape)\n",
    "print('Accuracy of logistic regression classifier on test set: {:.2f}'.format(regressor.score(X_test, Y_test)))"
   ]
  },
  {
   "cell_type": "markdown",
   "metadata": {},
   "source": [
    "# Logit model - Education as DV"
   ]
  },
  {
   "cell_type": "code",
   "execution_count": 94,
   "metadata": {
    "collapsed": true
   },
   "outputs": [],
   "source": [
    "X_train, X_test, Y_train, Y_test = train_test_split(X, Y_education, test_size=0.10, random_state=5)"
   ]
  },
  {
   "cell_type": "code",
   "execution_count": 95,
   "metadata": {},
   "outputs": [
    {
     "name": "stdout",
     "output_type": "stream",
     "text": [
      "(27000, 69) (27000,)\n"
     ]
    },
    {
     "data": {
      "text/plain": [
       "LogisticRegression(C=1.0, class_weight=None, dual=False, fit_intercept=True,\n",
       "          intercept_scaling=1, max_iter=100, multi_class='ovr', n_jobs=1,\n",
       "          penalty='l2', random_state=None, solver='liblinear', tol=0.0001,\n",
       "          verbose=0, warm_start=False)"
      ]
     },
     "execution_count": 95,
     "metadata": {},
     "output_type": "execute_result"
    }
   ],
   "source": [
    "# Logistic\n",
    "from sklearn.linear_model import LogisticRegression\n",
    "from sklearn.metrics import confusion_matrix\n",
    "\n",
    "print(X_train.shape, Y_train.shape)\n",
    "regressor = LogisticRegression()\n",
    "regressor.fit(X_train, Y_train)"
   ]
  },
  {
   "cell_type": "code",
   "execution_count": 96,
   "metadata": {},
   "outputs": [
    {
     "name": "stdout",
     "output_type": "stream",
     "text": [
      "(27000, 69) (27000,)\n",
      "Accuracy of logistic regression classifier on train set: 0.51\n",
      "(3000, 69) (3000,)\n",
      "Accuracy of logistic regression classifier on test set: 0.52\n"
     ]
    }
   ],
   "source": [
    "print(X_train.shape, Y_train.shape)\n",
    "print('Accuracy of logistic regression classifier on train set: {:.2f}'.format(regressor.score(X_train, Y_train)))\n",
    "print(X_test.shape, Y_test.shape)\n",
    "print('Accuracy of logistic regression classifier on test set: {:.2f}'.format(regressor.score(X_test, Y_test)))"
   ]
  },
  {
   "cell_type": "markdown",
   "metadata": {},
   "source": [
    "# Logit model - Age as DV"
   ]
  },
  {
   "cell_type": "code",
   "execution_count": 97,
   "metadata": {
    "collapsed": true
   },
   "outputs": [],
   "source": [
    "X_train, X_test, Y_train, Y_test = train_test_split(X, Y_age, test_size=0.10, random_state=5)"
   ]
  },
  {
   "cell_type": "code",
   "execution_count": 98,
   "metadata": {},
   "outputs": [
    {
     "name": "stdout",
     "output_type": "stream",
     "text": [
      "(27000, 69) (27000,)\n"
     ]
    },
    {
     "data": {
      "text/plain": [
       "LogisticRegression(C=1.0, class_weight=None, dual=False, fit_intercept=True,\n",
       "          intercept_scaling=1, max_iter=100, multi_class='ovr', n_jobs=1,\n",
       "          penalty='l2', random_state=None, solver='liblinear', tol=0.0001,\n",
       "          verbose=0, warm_start=False)"
      ]
     },
     "execution_count": 98,
     "metadata": {},
     "output_type": "execute_result"
    }
   ],
   "source": [
    "# Logistic\n",
    "from sklearn.linear_model import LogisticRegression\n",
    "from sklearn.metrics import confusion_matrix\n",
    "\n",
    "print(X_train.shape, Y_train.shape)\n",
    "regressor = LogisticRegression()\n",
    "regressor.fit(X_train, Y_train)"
   ]
  },
  {
   "cell_type": "code",
   "execution_count": 99,
   "metadata": {},
   "outputs": [
    {
     "name": "stdout",
     "output_type": "stream",
     "text": [
      "(27000, 69) (27000,)\n",
      "Accuracy of logistic regression classifier on train set: 0.39\n",
      "(3000, 69) (3000,)\n",
      "Accuracy of logistic regression classifier on test set: 0.39\n"
     ]
    }
   ],
   "source": [
    "print(X_train.shape, Y_train.shape)\n",
    "print('Accuracy of logistic regression classifier on train set: {:.2f}'.format(regressor.score(X_train, Y_train)))\n",
    "print(X_test.shape, Y_test.shape)\n",
    "print('Accuracy of logistic regression classifier on test set: {:.2f}'.format(regressor.score(X_test, Y_test)))"
   ]
  },
  {
   "cell_type": "markdown",
   "metadata": {},
   "source": [
    "# polynomial model - Gender as DV"
   ]
  },
  {
   "cell_type": "code",
   "execution_count": 100,
   "metadata": {
    "collapsed": true
   },
   "outputs": [],
   "source": [
    "X_train, X_test, Y_train, Y_test = train_test_split(X, Y_sex, test_size=0.10, random_state=5)"
   ]
  },
  {
   "cell_type": "code",
   "execution_count": 101,
   "metadata": {},
   "outputs": [
    {
     "data": {
      "text/plain": [
       "Pipeline(memory=None,\n",
       "     steps=[('polynomialfeatures', PolynomialFeatures(degree=2, include_bias=True, interaction_only=False)), ('logisticregression', LogisticRegression(C=1.0, class_weight=None, dual=False, fit_intercept=True,\n",
       "          intercept_scaling=1, max_iter=100, multi_class='ovr', n_jobs=1,\n",
       "          penalty='l2', random_state=None, solver='liblinear', tol=0.0001,\n",
       "          verbose=0, warm_start=False))])"
      ]
     },
     "execution_count": 101,
     "metadata": {},
     "output_type": "execute_result"
    }
   ],
   "source": [
    "from sklearn.preprocessing import PolynomialFeatures\n",
    "from sklearn.linear_model import LogisticRegression\n",
    "from sklearn.pipeline import make_pipeline\n",
    "\n",
    "regressor = make_pipeline(PolynomialFeatures(2), LogisticRegression())\n",
    "regressor.fit(X_train, Y_train)"
   ]
  },
  {
   "cell_type": "code",
   "execution_count": 102,
   "metadata": {},
   "outputs": [
    {
     "name": "stdout",
     "output_type": "stream",
     "text": [
      "(27000, 69) (27000,)\n",
      "Accuracy of logistic regression classifier on train set: 0.61\n",
      "(3000, 69) (3000,)\n",
      "Accuracy of logistic regression classifier on test set: 0.60\n"
     ]
    }
   ],
   "source": [
    "print(X_train.shape, Y_train.shape)\n",
    "print('Accuracy of logistic regression classifier on train set: {:.2f}'.format(regressor.score(X_train, Y_train)))\n",
    "print(X_test.shape, Y_test.shape)\n",
    "print('Accuracy of logistic regression classifier on test set: {:.2f}'.format(regressor.score(X_test, Y_test)))"
   ]
  },
  {
   "cell_type": "markdown",
   "metadata": {},
   "source": [
    "# Polynomial model - Education as DV"
   ]
  },
  {
   "cell_type": "code",
   "execution_count": 103,
   "metadata": {
    "collapsed": true
   },
   "outputs": [],
   "source": [
    "X_train, X_test, Y_train, Y_test = train_test_split(X, Y_education, test_size=0.10, random_state=5)"
   ]
  },
  {
   "cell_type": "code",
   "execution_count": 104,
   "metadata": {},
   "outputs": [
    {
     "data": {
      "text/plain": [
       "Pipeline(memory=None,\n",
       "     steps=[('polynomialfeatures', PolynomialFeatures(degree=2, include_bias=True, interaction_only=False)), ('logisticregression', LogisticRegression(C=1.0, class_weight=None, dual=False, fit_intercept=True,\n",
       "          intercept_scaling=1, max_iter=100, multi_class='ovr', n_jobs=1,\n",
       "          penalty='l2', random_state=None, solver='liblinear', tol=0.0001,\n",
       "          verbose=0, warm_start=False))])"
      ]
     },
     "execution_count": 104,
     "metadata": {},
     "output_type": "execute_result"
    }
   ],
   "source": [
    "from sklearn.preprocessing import PolynomialFeatures\n",
    "from sklearn.linear_model import LogisticRegression\n",
    "from sklearn.pipeline import make_pipeline\n",
    "\n",
    "regressor = make_pipeline(PolynomialFeatures(2), LogisticRegression())\n",
    "regressor.fit(X_train, Y_train)"
   ]
  },
  {
   "cell_type": "code",
   "execution_count": 105,
   "metadata": {},
   "outputs": [
    {
     "name": "stdout",
     "output_type": "stream",
     "text": [
      "(27000, 69) (27000,)\n",
      "Accuracy of logistic regression classifier on train set: 0.51\n",
      "(3000, 69) (3000,)\n",
      "Accuracy of logistic regression classifier on test set: 0.53\n"
     ]
    }
   ],
   "source": [
    "print(X_train.shape, Y_train.shape)\n",
    "print('Accuracy of logistic regression classifier on train set: {:.2f}'.format(regressor.score(X_train, Y_train)))\n",
    "print(X_test.shape, Y_test.shape)\n",
    "print('Accuracy of logistic regression classifier on test set: {:.2f}'.format(regressor.score(X_test, Y_test)))"
   ]
  },
  {
   "cell_type": "markdown",
   "metadata": {},
   "source": [
    "# Polynomial model - Age as DV"
   ]
  },
  {
   "cell_type": "code",
   "execution_count": 106,
   "metadata": {
    "collapsed": true
   },
   "outputs": [],
   "source": [
    "X_train, X_test, Y_train, Y_test = train_test_split(X, Y_age, test_size=0.10, random_state=5)"
   ]
  },
  {
   "cell_type": "code",
   "execution_count": 107,
   "metadata": {},
   "outputs": [
    {
     "data": {
      "text/plain": [
       "Pipeline(memory=None,\n",
       "     steps=[('polynomialfeatures', PolynomialFeatures(degree=2, include_bias=True, interaction_only=False)), ('logisticregression', LogisticRegression(C=1.0, class_weight=None, dual=False, fit_intercept=True,\n",
       "          intercept_scaling=1, max_iter=100, multi_class='ovr', n_jobs=1,\n",
       "          penalty='l2', random_state=None, solver='liblinear', tol=0.0001,\n",
       "          verbose=0, warm_start=False))])"
      ]
     },
     "execution_count": 107,
     "metadata": {},
     "output_type": "execute_result"
    }
   ],
   "source": [
    "from sklearn.preprocessing import PolynomialFeatures\n",
    "from sklearn.linear_model import LogisticRegression\n",
    "from sklearn.pipeline import make_pipeline\n",
    "\n",
    "regressor = make_pipeline(PolynomialFeatures(2), LogisticRegression())\n",
    "regressor.fit(X_train, Y_train)"
   ]
  },
  {
   "cell_type": "code",
   "execution_count": 108,
   "metadata": {},
   "outputs": [
    {
     "name": "stdout",
     "output_type": "stream",
     "text": [
      "(27000, 69) (27000,)\n",
      "Accuracy of logistic regression classifier on train set: 0.40\n",
      "(3000, 69) (3000,)\n",
      "Accuracy of logistic regression classifier on test set: 0.39\n"
     ]
    }
   ],
   "source": [
    "print(X_train.shape, Y_train.shape)\n",
    "print('Accuracy of logistic regression classifier on train set: {:.2f}'.format(regressor.score(X_train, Y_train)))\n",
    "print(X_test.shape, Y_test.shape)\n",
    "print('Accuracy of logistic regression classifier on test set: {:.2f}'.format(regressor.score(X_test, Y_test)))"
   ]
  }
 ],
 "metadata": {
  "kernelspec": {
   "display_name": "Python 3",
   "language": "python",
   "name": "python3"
  },
  "language_info": {
   "codemirror_mode": {
    "name": "ipython",
    "version": 3
   },
   "file_extension": ".py",
   "mimetype": "text/x-python",
   "name": "python",
   "nbconvert_exporter": "python",
   "pygments_lexer": "ipython3",
   "version": "3.6.4"
  }
 },
 "nbformat": 4,
 "nbformat_minor": 2
}
